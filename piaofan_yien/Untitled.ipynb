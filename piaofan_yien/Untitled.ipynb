{
 "cells": [
  {
   "cell_type": "code",
   "execution_count": 104,
   "metadata": {},
   "outputs": [
    {
     "data": {
      "text/plain": [
       "0    55.36\n",
       "1    60.50\n",
       "2    44.73\n",
       "3    71.80\n",
       "4    63.03\n",
       "Name: avgprice, dtype: float64"
      ]
     },
     "execution_count": 104,
     "metadata": {},
     "output_type": "execute_result"
    }
   ],
   "source": [
    "import urllib\n",
    "import requests\n",
    "from fake_useragent import UserAgent\n",
    "import json\n",
    "import pandas as pd\n",
    "import time\n",
    "import datetime\n",
    "\n",
    "from pyecharts import Style,Scatter,Bar\n",
    "path=\"piaofan_from_cnboo.csv\"\n",
    "datas=pd.read_csv(path,index_col=0)\n",
    "datas\n",
    "\n",
    "style=Style().add(\n",
    "    is_visualmap=True,\n",
    "    tooltip_formatter=\"{c}\",\n",
    "    xaxis_name=\"平均票价\"\n",
    ")\n",
    "sc=Scatter('ss','ss')\n",
    "da=datas.amount.astype(int)\n",
    "daa=datas.avgprice.astype(float)\n",
    "sc.add('test',datas.avgPS,daa,extra_data=list(da.values),**style)\n",
    "daa.round(2)\n"
   ]
  },
  {
   "cell_type": "code",
   "execution_count": null,
   "metadata": {},
   "outputs": [],
   "source": []
  }
 ],
 "metadata": {
  "kernelspec": {
   "display_name": "Python 3",
   "language": "python",
   "name": "python3"
  },
  "language_info": {
   "codemirror_mode": {
    "name": "ipython",
    "version": 3
   },
   "file_extension": ".py",
   "mimetype": "text/x-python",
   "name": "python",
   "nbconvert_exporter": "python",
   "pygments_lexer": "ipython3",
   "version": "3.7.0"
  }
 },
 "nbformat": 4,
 "nbformat_minor": 2
}
